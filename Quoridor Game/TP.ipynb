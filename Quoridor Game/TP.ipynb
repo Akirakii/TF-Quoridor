{
 "metadata": {
  "language_info": {
   "codemirror_mode": {
    "name": "ipython",
    "version": 3
   },
   "file_extension": ".py",
   "mimetype": "text/x-python",
   "name": "python",
   "nbconvert_exporter": "python",
   "pygments_lexer": "ipython3",
   "version": "3.8.3-final"
  },
  "orig_nbformat": 2,
  "kernelspec": {
   "name": "python_defaultSpec_1600299166947",
   "display_name": "Python 3.8.3 64-bit ('base': conda)"
  }
 },
 "nbformat": 4,
 "nbformat_minor": 2,
 "cells": [
  {
   "source": [
    "# introduccion\n",
    "\n",
    "#### Como trabajo parcial, para el curso de complejidad algorítmica, se implementará el juego Quoridor en el lenguaje de programación Python. El juego consiste en llegar al extremo opuesto de tablero antes que los demás jugadores, para ello los jugadores podrán poner barreras con el objetivo de bloquear los caminos de los demás jugadores y así poder llegar antes al extremo opuesto. Además, los jugadores solo pueden moverse un solo espacio (arriba, abajo, derecha o izquierda), saltar encima de una ficha, si la ficha del otro jugador esta al costado), moverse en diagonal si al querer saltar encima de una ficha existe una barrera en el siguiente espacio o poner una barrera. Para el desarrollo de este proyecto se usará Jupyter Notebook el cual se usará para explicar detalladamente el código a realizar. También se usará GitHub para poder tener un correcto control de versiones y poder trabajar de manera colaborativa. Por último, se usará la plataforma Discord para comunicarnos como equipo."
   ],
   "cell_type": "markdown",
   "metadata": {}
  }
 ]
}