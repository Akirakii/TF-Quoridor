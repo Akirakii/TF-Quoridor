{
 "metadata": {
  "language_info": {
   "codemirror_mode": {
    "name": "ipython",
    "version": 3
   },
   "file_extension": ".py",
   "mimetype": "text/x-python",
   "name": "python",
   "nbconvert_exporter": "python",
   "pygments_lexer": "ipython3",
   "version": "3.8.3-final"
  },
  "orig_nbformat": 2,
  "kernelspec": {
   "name": "Python 3.8.3 64-bit ('base': conda)",
   "display_name": "Python 3.8.3 64-bit ('base': conda)",
   "metadata": {
    "interpreter": {
     "hash": "bba54c4d054173381e312ce37babc8fbc5fd2d45c81bc28589dba265d35fbe4b"
    }
   }
  }
 },
 "nbformat": 4,
 "nbformat_minor": 2,
 "cells": [
  {
   "source": [
    "# TRABAJO PARCIAL: QUORIDOR\n",
    "\n"
   ],
   "cell_type": "markdown",
   "metadata": {}
  },
  {
   "source": [
    "## 1. INTRODUCCION\n",
    "\n",
    "Como trabajo parcial, para el curso de complejidad algorítmica, se implementará el juego Quoridor en el lenguaje de programación Python. El juego consiste en llegar al extremo opuesto de tablero antes que los demás jugadores, para ello los jugadores podrán poner barreras con el objetivo de bloquear los caminos de los demás jugadores y así poder llegar antes al extremo opuesto. Además, los jugadores solo pueden moverse un solo espacio (arriba, abajo, derecha o izquierda), saltar encima de una ficha, si la ficha del otro jugador esta al costado), moverse en diagonal si al querer saltar encima de una ficha existe una barrera en el siguiente espacio o poner una barrera. Para el desarrollo de este proyecto se usará Jupyter Notebook el cual se usará para explicar detalladamente el código a realizar. También se usará GitHub para poder tener un correcto control de versiones y poder trabajar de manera colaborativa. Por último, se usará la plataforma Discord para comunicarnos como equipo."
   ],
   "cell_type": "markdown",
   "metadata": {}
  },
  {
   "source": [
    "## 2. ESTADO DEL ARTE\n",
    "\n",
    "Para el apoyo de la implementación de nuestra solución, hemos recolectado una serie de investigaciones que evidencian las posibles soluciones del juego. Por cada investigación, nos fijaremos únicamente en cómo se definió la tabla del juego y la inserción de barreras (obstáculos del juego) y qué algoritmos fueron utilizados para la implementación del pathfinding y la inserción de barreras.\n",
    "\n",
    "### Primera solución: Monte Carlo Tree Search for Quoridor\n",
    "\n",
    "\n",
    "Fuente: Massagué Respall, Victor & Brown, Joseph & Aslam, Hamna. (2018). Monte Carlo Tree Search for Quoridor. \n",
    "\n",
    "#### Tabla del juego \n",
    "\"The class Board has all the information related to theboard game, squares, fences and both players. Allsquares are stored in an ArrayList, and to navigatethrough the board, we use a Map that each key is asquare and it returns a Set of all adjacent squares tothe key\"\n",
    "\n",
    "#### Barreras\n",
    "\"For checking if a certain fence can be placed, we initially start the game with a Set containing all possible placesthat a fence can be placed on the board. Then, each time a fence is placed, we update the Set removing ”forbid-den” positions. After checking that the position of that fence is inside the Set, we must check that both playersare not completely blocked from reaching the opposing baseline. The system explained before for storing fences is alsouseful for returning all possible movements available tothe player.\"\n",
    "\n",
    "#### Algoritmos\n",
    "\"The Monte Carlo Tree Search algorithm is used forbuilding the AI agent for Quoridor, as it appears to bean eﬃcient algorithm for this type of board game andgame tree size. It is a probabilistic search algorithmwith a unique decision-making ability because of its ef-ﬁciency in open-ended environments with an enormousamount of possibilities. To deal with the size of thegame tree, it applies Monte Carlo method (Metropolisand Ulam 1949). As it is based on random sampling ofgame states, it does not need to use brute force.We have built a game tree with a root node, then it isexpanded with random simulations. In the process, wemaintain the number of times we have visited a speciﬁcnode and a win score, used to evaluate the state of theboard. In the end, we select the node with best resultsand higher win scores.\""
   ],
   "cell_type": "markdown",
   "metadata": {}
  },
  {
   "source": [
    "## 3. Metodología\n",
    "\n",
    "Para el desarrollo del juego se usaran grafos el cual nos permitira saber cuales son los espacios aledaños a una ficha. Por otro lado se hara uso del algoritmo dijistra para poder encontrar el camino minimo para que la ficha llegue al extremo opuesto de donde empezo. Para ello inicialmente se usaran tableros de 3x3 con el objetivo de probar los algoritmos realizados. Luego se usaran tableros de 5x5 y 7x7 para poser vizaulizar un grafico de la complejidad."
   ],
   "cell_type": "markdown",
   "metadata": {}
  },
  {
   "source": [
    "## 4. EXPERIMENTOS "
   ],
   "cell_type": "markdown",
   "metadata": {}
  },
  {
   "source": [
    "## 5. RESULTADOS"
   ],
   "cell_type": "markdown",
   "metadata": {}
  },
  {
   "source": [
    "## 6. CONCLUSIONES"
   ],
   "cell_type": "markdown",
   "metadata": {}
  },
  {
   "source": [
    "## 7. PRESENTACION"
   ],
   "cell_type": "markdown",
   "metadata": {}
  },
  {
   "source": [
    "# Librerias\n",
    "###  Se usan la libreria pygame para la interface grafica del juego\n",
    "###  se usa la libreria time para medir los tiempos de cada algoritmo implementado"
   ],
   "cell_type": "markdown",
   "metadata": {}
  },
  {
   "cell_type": "code",
   "execution_count": 1,
   "metadata": {
    "tags": []
   },
   "outputs": [
    {
     "output_type": "stream",
     "name": "stdout",
     "text": "pygame 1.9.6\nHello from the pygame community. https://www.pygame.org/contribute.html\n"
    }
   ],
   "source": [
    "import pygame\n",
    "import time"
   ]
  },
  {
   "source": [
    "# Clase Tile\n",
    "### La clase tile es el nodo en cual se guardan los vecinos. Tambien tiene un metodo element el cual se inicializa vacio. En el metodo elemtendo se guarda al jugador."
   ],
   "cell_type": "markdown",
   "metadata": {}
  },
  {
   "cell_type": "code",
   "execution_count": 2,
   "metadata": {},
   "outputs": [],
   "source": [
    "class Tile():\n",
    "    def __init__(self):\n",
    "        self.neighbours = []\n",
    "        self.visited = False\n",
    "        self.visited_order = -1\n",
    "        self.is_shortest_path = False\n",
    "        element = None"
   ]
  },
  {
   "source": [
    "# Board\n",
    "### La clase board es donde se crea el tablero. Para crear el tablero se usado una matriz en la cual se guarda la clase Tile. Tambien se asigan los vecinos a cada recuadro del tablero."
   ],
   "cell_type": "markdown",
   "metadata": {}
  },
  {
   "cell_type": "code",
   "execution_count": 3,
   "metadata": {},
   "outputs": [],
   "source": [
    "class Board():\n",
    "    def __init__(self, size):\n",
    "        self.board = [[Tile() for r in range(size)] for c in range(size)]\n",
    "        self.indexing_tiles(self.board)\n",
    "\n",
    "    def indexing_tiles(self, board):\n",
    "        for i in range(len(board)):\n",
    "            for j in range(len(board[i])):\n",
    "                if j+1 < len(board[i]):\n",
    "                    board[i][j].neighbours.append(board[i][j+1])\n",
    "                if j-1 >= 0:\n",
    "                    board[i][j].neighbours.append(board[i][j-1])\n",
    "                if i-1 >= 0:\n",
    "                    board[i][j].neighbours.append(board[i-1][j])\n",
    "                if i+1 < len(board):\n",
    "                    board[i][j].neighbours.append(board[i+1][j])\n",
    "\n",
    "    def print_visited_tiles(self, board):\n",
    "        for i in range(len(board)):\n",
    "            for j in range(len(board[i])):\n",
    "                v = board[i][j].visited_order\n",
    "                print(v, end = \",  \" if v in range(0,9) else \", \")\n",
    "            print(\"\\n\")\n",
    "    \n",
    "    def print_path(self, board):\n",
    "        for i in range(len(board)):\n",
    "            for j in range(len(board[i])):\n",
    "                print(1 if board[i][j].is_shortest_path else 0, end = \",  \")\n",
    "            print(\"\\n\")\n",
    "\n",
    "    def reset_tiles(self, board):\n",
    "        for i in range(len(board)):\n",
    "            for j in range(len(board[i])):\n",
    "                board[i][j].visited = False\n",
    "                board[i][j].visited_order = -1\n",
    "                board[i][j].is_shortest_path = False"
   ]
  },
  {
   "source": [
    "# Clase Player\n",
    "### La clase player define al jugador. dentro de esta clase se guarda la poscicion del jugador y se guarda la imagen que se usara para representar a ese jugador"
   ],
   "cell_type": "markdown",
   "metadata": {}
  },
  {
   "cell_type": "code",
   "execution_count": 4,
   "metadata": {},
   "outputs": [],
   "source": [
    "class Player(pygame.sprite.Sprite):\n",
    "    def __init__(self, color, xpos, ypos):\n",
    "        self.color = color\n",
    "        self.xpos = xpos\n",
    "        self.ypos = ypos\n",
    "        super().__init__()\n",
    "        self.image = pygame.image.load(\"meteor.png\").convert()\n",
    "        self.image.set_colorkey((0, 0, 0))\n",
    "        self.rect = self.image.get_rect()"
   ]
  },
  {
   "source": [
    "# Clase Game\n",
    "### La clase game se encarga de inicializar el juego. En esta clase se inicializan las clases player y board. Ademas, se le asigna su posicision inicial a cada jugador y el tamaño del tablero"
   ],
   "cell_type": "markdown",
   "metadata": {}
  },
  {
   "cell_type": "code",
   "execution_count": 5,
   "metadata": {},
   "outputs": [],
   "source": [
    "class Game():\n",
    "    def __init__(self, num_players, size):\n",
    "        self.players = []\n",
    "        colors = ['red', 'blue', 'yellow', 'green']\n",
    "        xpos = [int(size/2), int(size/2), 0, size-1]\n",
    "        ypos = [0, size-1, int(size/2), int(size/2)]\n",
    "        self.game_board = Board(size)\n",
    "\n",
    "        for i in range(num_players):\n",
    "            self.players.append(Player(colors[i], xpos[i], ypos[i]))\n",
    "            self.game_board.board[ypos[i]][xpos[i]].element = self.players[i] \n",
    "        self.all_sprite_list = pygame.sprite.Group()\n",
    "    def printPlayer(self):\n",
    "        for i in range(len(self.players)):\n",
    "            self.players[i].rect.x = (self.players[i].xpos)*50\n",
    "            self.players[i].rect.y = (self.players[i].ypos)*50\n",
    "            self.all_sprite_list.add(self.players[i])"
   ]
  },
  {
   "cell_type": "code",
   "execution_count": 6,
   "metadata": {},
   "outputs": [],
   "source": [
    "def find_shortest_path(tile):\n",
    "    tile.is_shortest_path = True\n",
    "    if tile.visited_order == 0:\n",
    "        return tile\n",
    "    \n",
    "    posible_targets = []\n",
    "    \n",
    "    minimum = min(i.visited_order for i in tile.neighbours if i.visited)\n",
    "    for i in tile.neighbours:\n",
    "        if i.visited_order == minimum:\n",
    "            posible_targets.append(i) \n",
    "\n",
    "    if len(posible_targets) == 1:\n",
    "        neighbor_target = posible_targets[0]\n",
    "    else:\n",
    "        neighbors_minimum = []\n",
    "        for i in posible_targets:\n",
    "            neighbor_minimum = min(i.visited_order for i in tile.neighbours if i.visited)\n",
    "            neighbors_minimum.append(neighbor_minimum)\n",
    "\n",
    "        minimum = min(i for i in neighbors_minimum)\n",
    "        for i in tile.neighbours:\n",
    "            if i.visited_order == minimum:\n",
    "                neighbor_target = i\n",
    "\n",
    "    find_shortest_path(neighbor_target)\n"
   ]
  },
  {
   "cell_type": "code",
   "execution_count": 7,
   "metadata": {},
   "outputs": [],
   "source": [
    "def DFS(tile_ori, tile_dest, visited_order):\n",
    "    tile_ori.visited = True\n",
    "    tile_ori.visited_order = visited_order\n",
    "    if tile_dest.visited == True:\n",
    "        return\n",
    "    for i in tile_ori.neighbours: \n",
    "        if i.visited == False: \n",
    "            DFS(i, tile_dest, visited_order+1)\n",
    "\n",
    "def call_DFS(game, pos_ori, pos_dest):\n",
    "    board_util = game.game_board.board\n",
    "    tile_ori = board_util[pos_ori[0]][pos_ori[1]]\n",
    "    tile_dest = board_util[pos_dest[0]][pos_dest[1]]\n",
    "    DFS(tile_ori, tile_dest, 0)\n",
    "    find_shortest_path(tile_dest)\n",
    "    game.game_board.print_visited_tiles(board_util)\n",
    "    game.game_board.print_path(board_util)\n",
    "    game.game_board.reset_tiles(board_util)\n"
   ]
  },
  {
   "cell_type": "code",
   "execution_count": 8,
   "metadata": {},
   "outputs": [],
   "source": [
    "def BFS(game, pos_ori, pos_dest):\n",
    "    board_util = game.game_board.board\n",
    "    tile_ori = board_util[pos_ori[0]][pos_ori[1]]\n",
    "    tile_dest = board_util[pos_dest[0]][pos_dest[1]]\n",
    "    queque = []\n",
    "    order = 0\n",
    "    queque.append(tile_ori)\n",
    "\n",
    "    tile_ori.visited = True\n",
    "    while True:\n",
    "        tile_ori = queque.pop(0)\n",
    "        tile_ori.visited = True\n",
    "        tile_ori.visited_order = order\n",
    "        order += 1\n",
    "        if tile_ori == tile_dest:\n",
    "            break\n",
    "        for i in tile_ori.neighbours:\n",
    "            if queque.count(i) == 0 and i.visited == False:\n",
    "                queque.append(i)\n",
    "    \n",
    "    find_shortest_path(tile_dest)\n",
    "    game.game_board.print_visited_tiles(board_util)\n",
    "    game.game_board.print_path(board_util)\n",
    "    game.game_board.reset_tiles(board_util)"
   ]
  },
  {
   "cell_type": "code",
   "execution_count": 9,
   "metadata": {
    "tags": []
   },
   "outputs": [
    {
     "output_type": "stream",
     "name": "stdout",
     "text": "8,  3,  6,  12, 18, -1, -1, -1, -1, \n\n2,  0,  1,  5,  11, 17, -1, -1, -1, \n\n9, 4,  7,  13, 19, -1, -1, -1, -1, \n\n15, 10, 14, 20, -1, -1, -1, -1, -1, \n\n-1, 16, -1, -1, -1, -1, -1, -1, -1, \n\n-1, -1, -1, -1, -1, -1, -1, -1, -1, \n\n-1, -1, -1, -1, -1, -1, -1, -1, -1, \n\n-1, -1, -1, -1, -1, -1, -1, -1, -1, \n\n-1, -1, -1, -1, -1, -1, -1, -1, -1, \n\n0,  0,  0,  0,  0,  0,  0,  0,  0,  \n\n0,  1,  1,  1,  0,  0,  0,  0,  0,  \n\n0,  0,  0,  1,  0,  0,  0,  0,  0,  \n\n0,  0,  0,  1,  0,  0,  0,  0,  0,  \n\n0,  0,  0,  0,  0,  0,  0,  0,  0,  \n\n0,  0,  0,  0,  0,  0,  0,  0,  0,  \n\n0,  0,  0,  0,  0,  0,  0,  0,  0,  \n\n0,  0,  0,  0,  0,  0,  0,  0,  0,  \n\n0,  0,  0,  0,  0,  0,  0,  0,  0,  \n\n0.06979250907897949\n16, 15, 14, 13, 12, 11, 10, 9, 8,  \n\n17, 0,  1,  2,  3,  4,  5,  6,  7,  \n\n18, 19, 20, 21, 22, 23, 24, 25, 26, \n\n19, 20, 21, 32, 31, 30, 29, 28, 27, \n\n-1, -1, -1, -1, 32, 31, 30, 29, 28, \n\n-1, -1, -1, -1, -1, -1, -1, -1, -1, \n\n-1, -1, -1, -1, -1, -1, -1, -1, -1, \n\n-1, -1, -1, -1, -1, -1, -1, -1, -1, \n\n-1, -1, -1, -1, -1, -1, -1, -1, -1, \n\n0,  0,  0,  0,  0,  0,  0,  0,  0,  \n\n0,  1,  1,  1,  0,  0,  0,  0,  0,  \n\n0,  0,  0,  1,  0,  0,  0,  0,  0,  \n\n0,  0,  0,  1,  0,  0,  0,  0,  0,  \n\n0,  0,  0,  0,  0,  0,  0,  0,  0,  \n\n0,  0,  0,  0,  0,  0,  0,  0,  0,  \n\n0,  0,  0,  0,  0,  0,  0,  0,  0,  \n\n0,  0,  0,  0,  0,  0,  0,  0,  0,  \n\n0,  0,  0,  0,  0,  0,  0,  0,  0,  \n\n0.03390955924987793\n"
    }
   ],
   "source": [
    "def main():\n",
    "    pygame.init()\n",
    "    done = False\n",
    "    n = 9\n",
    "    numPlayer = 4\n",
    "    SCREEN_WIDTH = int((n)*50)\n",
    "    SCREEN_HEIGHT = int((n)*50)\n",
    "    BLACK = (0,0,0)\n",
    "    all_sprite_list = pygame.sprite.Group()\n",
    "    screen = pygame.display.set_mode([SCREEN_WIDTH, SCREEN_HEIGHT])\n",
    "    game = Game(numPlayer, n)\n",
    "    pos_ori = [1,1]\n",
    "    pos_dest = [3,3]\n",
    "    start = time.time()\n",
    "    BFS(game, pos_ori, pos_dest)\n",
    "    end = time.time()\n",
    "    print(end-start)\n",
    "\n",
    "    start = time.time()\n",
    "    call_DFS(game, pos_ori, pos_dest)\n",
    "    end = time.time()\n",
    "    print(end-start)\n",
    "\n",
    "    while not done:\n",
    "\n",
    "        for event in pygame.event.get():\n",
    "            if event.type == pygame.QUIT:\n",
    "                done = True\n",
    "\n",
    "        screen.fill([255, 255, 255])\n",
    "        for x in range(50,SCREEN_WIDTH,50):\n",
    "            pygame.draw.line(screen,BLACK, (x,0),(x,SCREEN_WIDTH), 2)\n",
    "        for y in range(50,SCREEN_HEIGHT,50):\n",
    "            pygame.draw.line(screen,BLACK, (0,y),(SCREEN_HEIGHT,y), 2)\n",
    "\n",
    "        game.printPlayer()\n",
    "        game.all_sprite_list.draw(screen)\n",
    "        pygame.display.flip()\n",
    "\n",
    "    pygame.quit()\n",
    "\n",
    "\n",
    "\n",
    "if __name__== \"__main__\":\n",
    "    main()"
   ]
  },
  {
   "cell_type": "code",
   "execution_count": null,
   "metadata": {},
   "outputs": [],
   "source": []
  }
 ]
}