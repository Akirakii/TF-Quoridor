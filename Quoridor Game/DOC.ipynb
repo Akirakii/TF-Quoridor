{
 "cells": [
  {
   "cell_type": "markdown",
   "metadata": {},
   "source": [
    "#                                                       TRABAJO PARCIAL : QUORIDOR\n",
    "## 1.INTRODUCCIÓN\n",
    "\n",
    "<img src=\"1_wp.png\" align=\"center\"/>\n",
    "\n",
    "#### Como trabajo parcial, para el curso de complejidad algorítmica, se implementará el juego Quoridor en el lenguaje de programación Python. El juego consiste en llegar al extremo opuesto de tablero antes que los demás jugadores, para ello los jugadores podrán poner barreras con el objetivo de bloquear los caminos de los demás jugadores y así poder llegar antes al extremo opuesto. Además, los jugadores solo pueden moverse un solo espacio (arriba, abajo, derecha o izquierda), saltar encima de una ficha, si la ficha del otro jugador esta al costado, moverse en diagonal si al querer saltar encima de una ficha existe una barrera en el siguiente espacio o poner una barrera. \n",
    "\n",
    "#### Siguiendo con la premisa del trabajo para el curso de complejidad algorítmica de implementar el juego QUORIDOR, el grupo motivado por trabajar su desarrollo y usando los conceptos aprendidos en clase para el almacenamiento y manejo de la memoria para su ejecución de manera eficiente. Para el desarrollo de este proyecto se usará Jupyter Notebook el cual se usará para explicar detalladamente el código a realizar. También se usará GitHub para poder tener un correcto control de versiones y poder trabajar de manera colaborativa. \n",
    "\n",
    "## 2.ESTADO DEL ARTE\n",
    "\n",
    "<img src=\"2_wp.png\" align=\"center\"/>\n",
    "\n",
    "#### **En la elaboracion de este trabajo parcial se estructurará en la creacion de las siguientes clases:**\n",
    "\n",
    "#### **La clase Board:** Representará la matrix nXn dibujada en un tablero cuadricular \n",
    "\n",
    "\n",
    "<img src=\"board.png\" align=\"center\"/>\n",
    "\n",
    "\n",
    "\n",
    "#### **La clase Player:** Representará a cada jugador o computador en una de las cuatro esquinas \n",
    "\n",
    "\n",
    "<img src=\"yellow.png\" align=\"center\"/> <img src=\"red.png\" align=\"center\"/>  <img src=\"green.png\" align=\"center\"/> <img src=\"blue.png\" align=\"center\"/>\n",
    "\n",
    "\n",
    "#### **La clase GameEngine:** Inicializa el juego haciendo uso de las clases anteriores, dibuja pantalla dibuja jugador, se encarga de los turnos y metas de cada jugador \n",
    "\n",
    "\n",
    "<img src=\"game_engine.jpg\" align=\"center\"/> \n",
    "\n",
    "### El interpretador que usaremos es Phyton y como motor gráfico el módulo de PYGAME que nos facilita el implemento del interfaz y funciones para videojuegos en 2D\n",
    "\n",
    "<img src=\"4_pygame.jpg\" align=\"center\"/> \n",
    "\n",
    "\n",
    "\n",
    "#### La implementación de nuestra solución, se ha recolectado una serie de investigaciones que evidencian las posibles soluciones del juego. Por cada investigación, nos fijaremos únicamente en cómo se definió la tabla del juego y qué algoritmos fueron utilizados para la implementación del pathfinding.\n",
    "\n",
    "### Para desarrollo del juego necesitamos crear un IA que busque una manera de llegar al otro extremo desde su punto inicial. De tal modo que el recorrido hasta dicho punto sea la menor distancia posible. Por ello, se usaran los conocimientos aprendidos previamente en el curso para resolver este problema.\n",
    "\n",
    "\n",
    "### **Algoritmos que solucionan el Recorrido del 'Board':**\n",
    "\n",
    "\n",
    "#### **Breadth-first search**\n",
    "#### Búsqueda en anchura 'BFS' es un algoritmo de búsqueda de nodos en un grafo. Su funcionamiento comienza en la raíz y se exploran todos los vecinos de este nodo. Luego hara lo mismo para cada uno de los vecinos se exploran sus respectivos vecinos adyacentes hasta finalizar con los todos los nodos visitados.\n",
    "\n",
    "\n",
    "#### **Depth-first search**\n",
    "\n",
    "#### Búsqueda en profundidad 'DFS' es un algoritmo de búsqueda utilizado para recorrer todos los nodos de un grafo. Su funcionamiento consiste en ir expandiendo todos y cada uno de los nodos que va localizando, de forma recurrente hasta que no hay mas nodos por visitar en y regresa al nodo anterior para poder ir nuevamente a profundidad de otro nodo no visitado.\n",
    "\n",
    "\n",
    "#### **Dijkstra's**\n",
    "\n",
    "#### El algoritmo de Dijkstra es un algoritmo para encontrar un camino más corto en un grafo que contiene un \"peso\" desde un nodo hacia otro. Lo cual compara varios caminos posibles y mostrando el de menor \"peso\"\n",
    "\n",
    "\n",
    "\n",
    "\n"
   ]
  },
  {
   "cell_type": "markdown",
   "metadata": {},
   "source": [
    "## 3. METODOLOGÍA\n",
    "\n",
    "\n",
    "## 4. EXPERIMENTOS\n",
    "\n",
    "#### Para los realizar los experimentos hemos tomado como referencia el tiempo que demoro encontrar una de las columnas o filas contrarias a su punto inicial de los 4 posibles inicios del jugador o computadora. Por lo que hemos medido el tiempo de inicios de ejecucion de busqueda de cada algoritmo utilizado en el trabajo.\n"
   ]
  },
  {
   "cell_type": "markdown",
   "metadata": {},
   "source": [
    "#### **Breadth-first search**"
   ]
  },
  {
   "cell_type": "code",
   "execution_count": 1,
   "metadata": {},
   "outputs": [],
   "source": [
    "##codigo de BFS para ejecutarlo con su tiempo de ejecucion de tablero nxn"
   ]
  },
  {
   "cell_type": "markdown",
   "metadata": {},
   "source": [
    "#### **Depth-first search**"
   ]
  },
  {
   "cell_type": "code",
   "execution_count": 2,
   "metadata": {},
   "outputs": [],
   "source": [
    "##codigo de DFS para ejecutarlo con su tiempo de ejecucion"
   ]
  },
  {
   "cell_type": "markdown",
   "metadata": {},
   "source": [
    "#### **Dijkstra's**"
   ]
  },
  {
   "cell_type": "code",
   "execution_count": 3,
   "metadata": {},
   "outputs": [],
   "source": [
    "##codigo de Dijkstra*s para ejecutarlo con su tiempo de ejecucion"
   ]
  },
  {
   "cell_type": "markdown",
   "metadata": {},
   "source": [
    "## 4. CONCLUSIONES\n",
    "\n",
    "#### El Quoridor implementado usando el algoritmo \"\"\"\"\"\"\"\"\"\"\"\"\"\"\" es más eficiente que el \"\"\"\"\"\"\"\"\"\"\"\" y este mayor o igual que el \"\"\"\"\"\"\"\"\"\"\"\"\"\"\"\". Sin embargo, para una situacion de un tablero mucho más grande (1000*1000). El algoritmo \"\"\"\"\"\"\"\"\"\" es menos eficiente que \"\"\"\"\"\"\"\"\"\"\"\"\"\"\", dando como resultado en este caso en espeficico el uso del algoritmo \n",
    "\"\"\"\"\"\"\"\"\""
   ]
  },
  {
   "cell_type": "code",
   "execution_count": null,
   "metadata": {},
   "outputs": [],
   "source": []
  },
  {
   "cell_type": "code",
   "execution_count": null,
   "metadata": {},
   "outputs": [],
   "source": []
  },
  {
   "cell_type": "code",
   "execution_count": null,
   "metadata": {},
   "outputs": [],
   "source": []
  },
  {
   "cell_type": "code",
   "execution_count": null,
   "metadata": {},
   "outputs": [],
   "source": []
  },
  {
   "cell_type": "code",
   "execution_count": null,
   "metadata": {},
   "outputs": [],
   "source": []
  }
 ],
 "metadata": {
  "kernelspec": {
   "display_name": "Python 3",
   "language": "python",
   "name": "python3"
  },
  "language_info": {
   "codemirror_mode": {
    "name": "ipython",
    "version": 3
   },
   "file_extension": ".py",
   "mimetype": "text/x-python",
   "name": "python",
   "nbconvert_exporter": "python",
   "pygments_lexer": "ipython3",
   "version": "3.7.8"
  }
 },
 "nbformat": 4,
 "nbformat_minor": 4
}
